{
 "cells": [
  {
   "cell_type": "markdown",
   "metadata": {
    "pycharm": {
     "name": "#%% md\n"
    }
   },
   "source": [
    "# Frameworki\n",
    "\n",
    "## Flask\n",
    "\n",
    "### instalacja\n",
    "\n",
    "     pip install flask\n",
    "\n",
    "### najprostszy projekt\n",
    "\n",
    "\t# plik app.py\n",
    "\tfrom flask import Flask\n",
    "\tapp = Flask(__name__)\n",
    "\n",
    "\t@app.route(\"/\")\n",
    "\tdef main():\n",
    "\t    return \"Hello World!\"\n",
    "\n",
    "w konsoli:\n",
    "\n",
    "\n",
    "\tflask run\n",
    "\n",
    "Jeśli plik nazywa się app.py i w folderze, który go zawiera wydamy polecenie flask run to powinna uruchomi się aplikacja na http://localhost:5000\n",
    "\n",
    "## Django\n",
    "\n",
    "Wzorzec MVT (zmodyfikowany MVC - w którym rolę kontrolera przejmuje samo Django)\n",
    "\n",
    "### Routing\n",
    "\n",
    "Plik urls.py określa połączenie pomiędzy adresem url a funkcją która ma przyjac request i zwróci response.\n",
    "\n",
    "### Views\n",
    "\n",
    "Plk views.py w aplikacji opisuje tzw. widoki\n",
    "\n",
    "### Models\n",
    "\n",
    "#### Normalizacja baz danych (realcyjnych)  - do poczytania\n",
    "\n",
    "https://pl.wikipedia.org/wiki/Posta%C4%87_normalna_(bazy_danych)\n",
    "\n",
    "\n",
    "\n",
    "#### Relacja M2O\n",
    "\n",
    "![obraz-3.png](attachment:obraz-3.png)\n",
    "\n",
    "#### Relacja O2O\n",
    "\n",
    "![obraz.png](attachment:obraz.png)\n",
    "\n",
    "\n",
    "#### Relacja M2M\n",
    "\n",
    "![obraz-2.png](attachment:obraz-2.png)\n",
    "\n",
    "\n",
    "\n",
    "## Mixin"
   ]
  },
  {
   "cell_type": "code",
   "execution_count": 3,
   "metadata": {},
   "outputs": [
    {
     "name": "stdout",
     "output_type": "stream",
     "text": [
      "Rafał\n"
     ]
    },
    {
     "ename": "AttributeError",
     "evalue": "'MixinA' object has no attribute 'a'",
     "output_type": "error",
     "traceback": [
      "\u001b[0;31m---------------------------------------------------------------------------\u001b[0m",
      "\u001b[0;31mAttributeError\u001b[0m                            Traceback (most recent call last)",
      "Cell \u001b[0;32mIn [3], line 18\u001b[0m\n\u001b[1;32m     14\u001b[0m x\u001b[38;5;241m.\u001b[39mfunction_a()\n\u001b[1;32m     17\u001b[0m a  \u001b[38;5;241m=\u001b[39m MixinA()\n\u001b[0;32m---> 18\u001b[0m \u001b[43ma\u001b[49m\u001b[38;5;241;43m.\u001b[39;49m\u001b[43mfunction_a\u001b[49m\u001b[43m(\u001b[49m\u001b[43m)\u001b[49m\n",
      "Cell \u001b[0;32mIn [3], line 5\u001b[0m, in \u001b[0;36mMixinA.function_a\u001b[0;34m(self)\u001b[0m\n\u001b[1;32m      4\u001b[0m \u001b[38;5;28;01mdef\u001b[39;00m \u001b[38;5;21mfunction_a\u001b[39m(\u001b[38;5;28mself\u001b[39m):\n\u001b[0;32m----> 5\u001b[0m     \u001b[38;5;28mprint\u001b[39m(\u001b[38;5;28;43mself\u001b[39;49m\u001b[38;5;241;43m.\u001b[39;49m\u001b[43ma\u001b[49m)\n",
      "\u001b[0;31mAttributeError\u001b[0m: 'MixinA' object has no attribute 'a'"
     ]
    }
   ],
   "source": [
    "class MixinA:\n",
    "    \n",
    "    \n",
    "    def function_a(self):\n",
    "        print(self.a)\n",
    "        \n",
    "class MyClass(MixinA):\n",
    "    \n",
    "    def __init__(self, a):\n",
    "        self.a = a\n",
    "\n",
    "x = MyClass(\"Rafał\")\n",
    "\n",
    "x.function_a()\n",
    "\n",
    "\n",
    "a  = MixinA()\n",
    "a.function_a()"
   ]
  },
  {
   "attachments": {},
   "cell_type": "markdown",
   "metadata": {
    "pycharm": {
     "name": "#%% md\n"
    }
   },
   "source": [
    "## FastAPI"
   ]
  },
  {
   "cell_type": "code",
   "execution_count": null,
   "metadata": {
    "pycharm": {
     "name": "#%%\n"
    }
   },
   "outputs": [],
   "source": []
  }
 ],
 "metadata": {
  "kernelspec": {
   "display_name": "Python 3 (ipykernel)",
   "language": "python",
   "name": "python3"
  },
  "language_info": {
   "codemirror_mode": {
    "name": "ipython",
    "version": 3
   },
   "file_extension": ".py",
   "mimetype": "text/x-python",
   "name": "python",
   "nbconvert_exporter": "python",
   "pygments_lexer": "ipython3",
   "version": "3.10.7"
  },
  "toc": {
   "base_numbering": 1,
   "nav_menu": {},
   "number_sections": true,
   "sideBar": true,
   "skip_h1_title": false,
   "title_cell": "Table of Contents",
   "title_sidebar": "Contents",
   "toc_cell": false,
   "toc_position": {},
   "toc_section_display": true,
   "toc_window_display": false
  }
 },
 "nbformat": 4,
 "nbformat_minor": 1
}
